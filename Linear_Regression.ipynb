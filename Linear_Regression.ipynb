{
 "cells": [
  {
   "cell_type": "code",
   "execution_count": null,
   "id": "1fb3be0c-ea7a-4cda-9c95-1c20bbe832ab",
   "metadata": {},
   "outputs": [],
   "source": [
    "import numpy as np\n",
    "import pandas as pd \n",
    "import matplotlib.pyplot as plt\n",
    "%matplotlib inline\n",
    "from sklearn.datasets import load_diabetes"
   ]
  },
  {
   "cell_type": "code",
   "execution_count": null,
   "id": "b80a1d69-e247-41e2-9510-5d94a4d06647",
   "metadata": {},
   "outputs": [],
   "source": [
    "print(\"HEllo\")"
   ]
  },
  {
   "cell_type": "code",
   "execution_count": null,
   "id": "e3a679f5-c68d-49cf-a088-9d8a3b2c9d41",
   "metadata": {},
   "outputs": [],
   "source": [
    "dbt=load_diabetes()\n",
    "dbt.keys()"
   ]
  },
  {
   "cell_type": "code",
   "execution_count": null,
   "id": "539cccd5-2615-4513-9854-b52e3854f3a7",
   "metadata": {},
   "outputs": [],
   "source": [
    "dbt.feature_names"
   ]
  },
  {
   "cell_type": "markdown",
   "id": "db185be2-c565-4656-8330-0b1d82505572",
   "metadata": {},
   "source": [
    "# Understanding Dataset "
   ]
  },
  {
   "cell_type": "code",
   "execution_count": null,
   "id": "98fd4550-3ce0-45f4-88e8-98109eb09b95",
   "metadata": {},
   "outputs": [],
   "source": [
    "\n",
    "print(dbt.DESCR)"
   ]
  },
  {
   "cell_type": "code",
   "execution_count": null,
   "id": "3f4c6b8b-6db5-4623-8289-b53a15dce107",
   "metadata": {},
   "outputs": [],
   "source": [
    "dbt.data"
   ]
  },
  {
   "cell_type": "markdown",
   "id": "c3fb2e11-f874-4629-b7b5-d00e9eaf0abc",
   "metadata": {},
   "source": [
    "# Preparing the Dataset"
   ]
  },
  {
   "cell_type": "code",
   "execution_count": null,
   "id": "44b8c950-274f-459e-a1ea-37d3cb0e75ac",
   "metadata": {},
   "outputs": [],
   "source": [
    "dataset=pd.DataFrame(dbt.data,columns=dbt.feature_names)\n",
    "dataset['Diabetes']=dbt.target "
   ]
  },
  {
   "cell_type": "code",
   "execution_count": null,
   "id": "172ed5bb-b682-4704-a3e8-50f4e10283fc",
   "metadata": {},
   "outputs": [],
   "source": [
    "dataset.head()"
   ]
  },
  {
   "cell_type": "code",
   "execution_count": null,
   "id": "c7a36779-2048-4404-a0fc-2b143926bc39",
   "metadata": {},
   "outputs": [],
   "source": [
    "dataset.info()"
   ]
  },
  {
   "cell_type": "markdown",
   "id": "8df286dc-8e35-4a64-8fdd-7c7656dcb3d7",
   "metadata": {},
   "source": [
    "# Summarizing Data set"
   ]
  },
  {
   "cell_type": "code",
   "execution_count": null,
   "id": "f2a28f24-1e35-4172-9870-6104892aa79f",
   "metadata": {},
   "outputs": [],
   "source": [
    "dataset.describe()"
   ]
  },
  {
   "cell_type": "markdown",
   "id": "ad5ad4c1-77e6-4db3-8e91-7c1b8186e9dc",
   "metadata": {},
   "source": [
    "## check missing values"
   ]
  },
  {
   "cell_type": "code",
   "execution_count": null,
   "id": "823b134c-d0c3-4879-a3d9-05d566bba90b",
   "metadata": {},
   "outputs": [],
   "source": [
    "#dataset.isnull()\n",
    "dataset.isnull().sum()"
   ]
  },
  {
   "cell_type": "markdown",
   "id": "cea2023e-53e7-46dc-a32b-28ae4444cfa2",
   "metadata": {},
   "source": [
    "### Exploratory data analysis\n",
    "### Correlation\n",
    "if any 2 independent features are highly correlated i.e. 0.95 or 0.96 then there is Multicolinearity and one feauture must be removed."
   ]
  },
  {
   "cell_type": "code",
   "execution_count": null,
   "id": "69a44374-321f-4451-a50b-e0e355beb275",
   "metadata": {},
   "outputs": [],
   "source": [
    "dataset.corr()"
   ]
  },
  {
   "cell_type": "code",
   "execution_count": null,
   "id": "987d6253-1c0c-4c24-a731-a08229b2bc4c",
   "metadata": {},
   "outputs": [],
   "source": [
    "import seaborn as sns"
   ]
  },
  {
   "cell_type": "code",
   "execution_count": null,
   "id": "08003bb5-a267-4a2f-b429-65ef86bfc95a",
   "metadata": {},
   "outputs": [],
   "source": [
    "sns.pairplot(dataset)"
   ]
  },
  {
   "cell_type": "code",
   "execution_count": null,
   "id": "d6992304-8275-4381-a4b1-291232e79124",
   "metadata": {},
   "outputs": [],
   "source": [
    "plt.scatter(dataset.bp,dataset.Diabetes)\n",
    "plt.xlabel(\"BP\")\n",
    "plt.ylabel(\"Diabetes\")\n",
    "plt.show()"
   ]
  },
  {
   "cell_type": "code",
   "execution_count": null,
   "id": "b1efa3a3-f658-49dc-8311-374de6c69536",
   "metadata": {},
   "outputs": [],
   "source": [
    "sns.regplot(x=\"bp\",y=\"Diabetes\",data=dataset)"
   ]
  },
  {
   "cell_type": "code",
   "execution_count": null,
   "id": "3f13950d-97c9-4d01-8668-06d9a20864ca",
   "metadata": {},
   "outputs": [],
   "source": [
    "sns.regplot(x=\"s1\",y=\"s4\",data=dataset)"
   ]
  },
  {
   "cell_type": "markdown",
   "id": "c3dc8a7a-bfa4-4437-850e-76b23b6be227",
   "metadata": {},
   "source": []
  },
  {
   "cell_type": "code",
   "execution_count": null,
   "id": "312db15f-ca50-4f9c-977c-3dbe551fbd94",
   "metadata": {},
   "outputs": [],
   "source": [
    "## Independent and Dependent Features\n",
    "X=dataset.iloc[:,:-1]\n",
    "y=dataset.iloc[:,-1]\n"
   ]
  },
  {
   "cell_type": "code",
   "execution_count": null,
   "id": "969fa8b6-a0de-4a72-8344-78a7b2703f49",
   "metadata": {},
   "outputs": [],
   "source": [
    "# Train Test Split\n",
    "from sklearn.model_selection import train_test_split\n",
    "X_train, X_test, y_train, y_test=train_test_split(X,y,test_size=0.3,random_state=42) "
   ]
  },
  {
   "cell_type": "code",
   "execution_count": null,
   "id": "68405b2d-4c76-4d31-8954-9dccd5be36c0",
   "metadata": {},
   "outputs": [],
   "source": [
    "X_train.head()\n"
   ]
  },
  {
   "cell_type": "code",
   "execution_count": null,
   "id": "70ce49d5-2cd1-48a5-81d7-b2988c7669e9",
   "metadata": {},
   "outputs": [],
   "source": [
    "y_test.head()"
   ]
  },
  {
   "cell_type": "code",
   "execution_count": null,
   "id": "d93305cc-8c8c-4cab-873a-b39e0e756d34",
   "metadata": {},
   "outputs": [],
   "source": [
    "from sklearn.preprocessing import StandardScaler\n",
    "scale=StandardScaler()"
   ]
  },
  {
   "cell_type": "code",
   "execution_count": null,
   "id": "70728c75-c088-444c-97d7-8589a9618810",
   "metadata": {},
   "outputs": [],
   "source": [
    "# X_train=scale.fit_transform(X_train)\n",
    "# X_train"
   ]
  },
  {
   "cell_type": "markdown",
   "id": "e77b2848-9cd7-49dc-8137-23afd4d395de",
   "metadata": {},
   "source": [
    "# Creating Linear Regression Model"
   ]
  },
  {
   "cell_type": "code",
   "execution_count": null,
   "id": "bba5b6b6-e5e7-4a9f-806b-c300947db424",
   "metadata": {},
   "outputs": [],
   "source": [
    "from sklearn.linear_model import LinearRegression\n"
   ]
  },
  {
   "cell_type": "code",
   "execution_count": null,
   "id": "d3bc7687-a19c-42d2-91e8-483c8fbe7326",
   "metadata": {},
   "outputs": [],
   "source": [
    "regression=LinearRegression()\n",
    "regression.fit(X_train,y_train)"
   ]
  },
  {
   "cell_type": "markdown",
   "id": "90284045-45cb-403a-a036-b3e4633a432c",
   "metadata": {},
   "source": [
    "### Access Weights and Bias"
   ]
  },
  {
   "cell_type": "code",
   "execution_count": null,
   "id": "30ceb990-e87f-432e-9026-ed8e9363bca8",
   "metadata": {},
   "outputs": [],
   "source": [
    "print(regression.coef_)\n",
    "print(regression.intercept_)"
   ]
  },
  {
   "cell_type": "markdown",
   "id": "d8c1b47f-4ef5-4e42-90c3-892f3d1f0d13",
   "metadata": {},
   "source": [
    "## Check which parameters model has been trained"
   ]
  },
  {
   "cell_type": "code",
   "execution_count": null,
   "id": "edc101ad-91e6-4edf-a00a-202809a04600",
   "metadata": {},
   "outputs": [],
   "source": [
    "regression.get_params()"
   ]
  },
  {
   "cell_type": "markdown",
   "id": "b03f4705-2f87-4652-988c-72cac718a0b7",
   "metadata": {},
   "source": [
    "## Prediction"
   ]
  },
  {
   "cell_type": "code",
   "execution_count": null,
   "id": "6b282d47-356a-40d5-9fa2-777446f0d438",
   "metadata": {},
   "outputs": [],
   "source": [
    "y_hat=regression.predict(X_test)\n",
    "y_hat"
   ]
  },
  {
   "cell_type": "code",
   "execution_count": null,
   "id": "f965c2a9-ca4d-428d-888d-2c2a0db380a2",
   "metadata": {},
   "outputs": [],
   "source": [
    "plt.scatter(y_test,y_hat)\n",
    "y_hat.shape"
   ]
  },
  {
   "cell_type": "code",
   "execution_count": null,
   "id": "c2fdc953-b33d-402a-b0eb-3ec990f5de21",
   "metadata": {},
   "outputs": [],
   "source": [
    "residuals=y_hat-y_test\n",
    "residuals"
   ]
  },
  {
   "cell_type": "code",
   "execution_count": null,
   "id": "4caac101-d50e-4cab-b000-78dad715e9f4",
   "metadata": {},
   "outputs": [],
   "source": [
    "sns.displot(residuals,kind=\"kde\")"
   ]
  },
  {
   "cell_type": "code",
   "execution_count": null,
   "id": "72a07847-50bf-4657-9992-601c2eef824f",
   "metadata": {},
   "outputs": [],
   "source": [
    "from sklearn.metrics import mean_squared_error\n",
    "\n",
    "mean_squared_error(y_test,y_hat)\n"
   ]
  },
  {
   "cell_type": "code",
   "execution_count": null,
   "id": "5f59e13a-08b1-43ba-91de-dd5ec00ae577",
   "metadata": {},
   "outputs": [],
   "source": [
    "regression.predict(dbt.data[0].reshape(1,-1))"
   ]
  },
  {
   "cell_type": "markdown",
   "id": "8c92c570-4482-4c9b-a922-4f0b3738c22f",
   "metadata": {},
   "source": [
    "### Pickling the Model file using Pickle"
   ]
  },
  {
   "cell_type": "code",
   "execution_count": null,
   "id": "82bc8746-a66c-45c5-93a4-a97b47e91dbc",
   "metadata": {},
   "outputs": [],
   "source": [
    "import pickle\n",
    "\n",
    "pickle.dump(regression, open('DiabetesModel.pkl','wb'))"
   ]
  },
  {
   "cell_type": "code",
   "execution_count": null,
   "id": "d70d085c-aece-420c-9ac9-c575c77f7675",
   "metadata": {},
   "outputs": [],
   "source": [
    "model=pickle.load(open('DiabetesModel.pkl','rb'))"
   ]
  },
  {
   "cell_type": "code",
   "execution_count": null,
   "id": "c3be99e2-1daa-423a-be80-ab3a97cea5f7",
   "metadata": {},
   "outputs": [],
   "source": [
    "model.predict(X_test)"
   ]
  },
  {
   "cell_type": "code",
   "execution_count": null,
   "id": "9f467dcf-e523-4443-8723-810383492f6d",
   "metadata": {},
   "outputs": [],
   "source": []
  }
 ],
 "metadata": {
  "kernelspec": {
   "display_name": "Python 3 (ipykernel)",
   "language": "python",
   "name": "python3"
  },
  "language_info": {
   "codemirror_mode": {
    "name": "ipython",
    "version": 3
   },
   "file_extension": ".py",
   "mimetype": "text/x-python",
   "name": "python",
   "nbconvert_exporter": "python",
   "pygments_lexer": "ipython3",
   "version": "3.12.2"
  }
 },
 "nbformat": 4,
 "nbformat_minor": 5
}
